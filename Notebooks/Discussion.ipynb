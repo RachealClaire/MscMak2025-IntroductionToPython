{
 "cells": [
  {
   "cell_type": "markdown",
   "id": "2b5e7daa",
   "metadata": {},
   "source": [
    "# Dictionary"
   ]
  },
  {
   "cell_type": "code",
   "execution_count": null,
   "id": "b6d7a654",
   "metadata": {},
   "outputs": [
    {
     "name": "stdout",
     "output_type": "stream",
     "text": [
      "2\n",
      "{'a': 1}\n",
      "{'b': 3, 'c': 4}\n"
     ]
    }
   ],
   "source": [
    "my_dict = {\"a\": 1, \"b\": 2}\n",
    "my_dict2 = {\"b\": 3, \"c\": 4}\n",
    "value = my_dict.pop(\"b\") # Removes key \"b\" and returns its value\n",
    "print(value)\n",
    "print(my_dict)\n",
    "print(my_dict2)"
   ]
  },
  {
   "cell_type": "code",
   "execution_count": null,
   "id": "e02e5e6c",
   "metadata": {},
   "outputs": [
    {
     "name": "stdout",
     "output_type": "stream",
     "text": [
      "{'a': 1, 'b': 3, 'c': 4}\n"
     ]
    }
   ],
   "source": [
    "# Merging dictionaries, where values from my_dict2 overwrite those in my_dict for duplicate keys\n",
    "my_dict.update(my_dict2)\n",
    "\n",
    "print(my_dict)"
   ]
  },
  {
   "cell_type": "code",
   "execution_count": null,
   "id": "6e78a249",
   "metadata": {},
   "outputs": [
    {
     "name": "stdout",
     "output_type": "stream",
     "text": [
      "{'a': 1, 'b': 3, 'c': 4}\n"
     ]
    }
   ],
   "source": [
    "# merging dictionaries using the ** operator\n",
    "data1 = {**my_dict, **my_dict2}\n",
    "print(data1)"
   ]
  },
  {
   "cell_type": "code",
   "execution_count": null,
   "id": "d0f367b9",
   "metadata": {},
   "outputs": [
    {
     "name": "stdout",
     "output_type": "stream",
     "text": [
      "{'a': 1, 'b': 3, 'c': 4}\n"
     ]
    }
   ],
   "source": [
    "# Merging dictionaries using the | (Union) operator\n",
    "dict3 = my_dict | my_dict2\n",
    "print(dict3)"
   ]
  },
  {
   "cell_type": "markdown",
   "id": "8876c6c4",
   "metadata": {},
   "source": [
    ".values - is used to access all the values in a dictionary\n",
    "\n",
    ".get - is used to access a value for a given key, with an option to return a default value if the key is not found"
   ]
  },
  {
   "cell_type": "code",
   "execution_count": null,
   "id": "52a36600",
   "metadata": {},
   "outputs": [],
   "source": []
  },
  {
   "cell_type": "code",
   "execution_count": null,
   "id": "074508b7",
   "metadata": {},
   "outputs": [
    {
     "name": "stdout",
     "output_type": "stream",
     "text": [
      "{0: 1, 'b': 2}\n"
     ]
    }
   ],
   "source": [
    "dict1 = {0: 1, \"b\": 2} # the dictionary can have mixed keys\n",
    "\n",
    "print(dict1)"
   ]
  },
  {
   "cell_type": "code",
   "execution_count": 22,
   "id": "4da353a6",
   "metadata": {},
   "outputs": [
    {
     "name": "stdout",
     "output_type": "stream",
     "text": [
      "{'a': 1, 'b': 2}\n"
     ]
    }
   ],
   "source": [
    "turple = [('a', 1), ('b', 2)]\n",
    "\n",
    "my_dict = dict(turple)\n",
    "print(my_dict)"
   ]
  },
  {
   "cell_type": "code",
   "execution_count": 23,
   "id": "a2a9d031",
   "metadata": {},
   "outputs": [
    {
     "name": "stdout",
     "output_type": "stream",
     "text": [
      "True\n",
      "False\n"
     ]
    }
   ],
   "source": [
    "data = {\"name\": \"Alice\", \"age\": 30}\n",
    "print(\"name\" in data)\n",
    "print(\"city\" in data)"
   ]
  },
  {
   "cell_type": "code",
   "execution_count": 30,
   "id": "14586ef7",
   "metadata": {},
   "outputs": [
    {
     "name": "stdout",
     "output_type": "stream",
     "text": [
      "Emma\n",
      "27\n"
     ]
    }
   ],
   "source": [
    "# Nested Dictionary. To access values, you need to chain the keys. Always use square brackets for accessing values.\n",
    "\n",
    "student = {1: {'name': 'Emma', 'age': '27', 'sex': 'Female'},\n",
    "           2: {'name': 'Mike', 'age': '22', 'sex': 'Male'}}\n",
    "\n",
    "print(student[1]['name'])  # Accessing nested dictionary value\n",
    "print(student[1]['age'])  # Accessing nested dictionary value"
   ]
  },
  {
   "cell_type": "code",
   "execution_count": 33,
   "id": "32373d14",
   "metadata": {},
   "outputs": [
    {
     "name": "stdout",
     "output_type": "stream",
     "text": [
      "age\n"
     ]
    }
   ],
   "source": [
    "# Default sort mechanism is ascending order. \n",
    "profile = {\"name\": \"John\", \"age\": 25, \"city\": \"New York\"}\n",
    "keys = list(profile.keys()) # Convert the keys view to a list\n",
    "keys.sort()\n",
    "print(keys[0])"
   ]
  },
  {
   "cell_type": "code",
   "execution_count": null,
   "id": "54976a39",
   "metadata": {},
   "outputs": [
    {
     "name": "stdout",
     "output_type": "stream",
     "text": [
      "{'first': 1, 'second': 2, 'third': 3}\n"
     ]
    }
   ],
   "source": [
    "# Creating a dictionary using the dict() constructor with a list of tuples\n",
    "sampleDict = dict([\n",
    "    ('first', 1),\n",
    "    ('second', 2),\n",
    "    ('third', 3)\n",
    "])\n",
    "print(sampleDict)"
   ]
  },
  {
   "cell_type": "markdown",
   "id": "207690f6",
   "metadata": {},
   "source": [
    "my_dict.pop() removes a specified key and returns the corresponding value. If the key is not found, it raises a KeyError unless a default value is provided.\n",
    "\n",
    "mydict.popitem() removes and returns the last inserted key-value pair as a tuple. If the dictionary is empty, it raises a KeyError."
   ]
  },
  {
   "cell_type": "code",
   "execution_count": null,
   "id": "7139c21b",
   "metadata": {},
   "outputs": [
    {
     "name": "stdout",
     "output_type": "stream",
     "text": [
      "{'Monday': 11, 'Tuesday': 2}\n",
      "{'Monday': 1, 'Tuesday': 2}\n",
      "{'Monday': 11, 'Tuesday': 2}\n"
     ]
    }
   ],
   "source": [
    "day1 = {'Monday': 1, 'Tuesday': 2}\n",
    "day3 = day1# creates a copy of day1 that shares immutable objects with day3\n",
    "day2 = day1.copy() # creates a copy of day1 that is independent \n",
    "\n",
    "day1['Monday'] = 11\n",
    "\n",
    "print(day1)\n",
    "print(day2)\n",
    "print(day3)\n"
   ]
  },
  {
   "cell_type": "code",
   "execution_count": 39,
   "id": "5bbc6eba",
   "metadata": {},
   "outputs": [
    {
     "ename": "SyntaxError",
     "evalue": "expression cannot contain assignment, perhaps you meant \"==\"? (1963730931.py, line 7)",
     "output_type": "error",
     "traceback": [
      "  \u001b[36mCell\u001b[39m\u001b[36m \u001b[39m\u001b[32mIn[39]\u001b[39m\u001b[32m, line 7\u001b[39m\n\u001b[31m    \u001b[39m\u001b[31mnum = dict(1=\"one\", 2=\"two\")\u001b[39m\n               ^\n\u001b[31mSyntaxError\u001b[39m\u001b[31m:\u001b[39m expression cannot contain assignment, perhaps you meant \"==\"?\n"
     ]
    }
   ],
   "source": [
    "{\"key\":\"value\"}\n",
    "\n",
    "\n",
    "my_dict = dict(name=\"Alice\", age=30)\n",
    "print(my_dict)\n",
    "\n",
    "num = dict(1=\"one\", 2=\"two\")\n",
    "print(num)"
   ]
  },
  {
   "cell_type": "code",
   "execution_count": null,
   "id": "b160dfbe",
   "metadata": {},
   "outputs": [
    {
     "ename": "SyntaxError",
     "evalue": "expression cannot contain assignment, perhaps you meant \"==\"? (2510932542.py, line 6)",
     "output_type": "error",
     "traceback": [
      "  \u001b[36mCell\u001b[39m\u001b[36m \u001b[39m\u001b[32mIn[40]\u001b[39m\u001b[32m, line 6\u001b[39m\n\u001b[31m    \u001b[39m\u001b[31mnum = dict(1=\"one\", 2=\"two\")\u001b[39m\n               ^\n\u001b[31mSyntaxError\u001b[39m\u001b[31m:\u001b[39m expression cannot contain assignment, perhaps you meant \"==\"?\n"
     ]
    }
   ],
   "source": [
    "my_dict = dict(name=\"Alice\", age=30)\n",
    "print(my_dict)\n",
    "# Output: {'name': 'Alice', 'age': 30}\n",
    "\n",
    "# The following line will cause a SyntaxError!\n",
    "num = dict(1=\"one\", 2=\"two\")\n",
    "print(num)\n",
    "# SyntaxError: expression cannot contain assignment, perhaps you meant \"==\"?\n",
    "\n",
    "\n",
    "# dict(name=\"Alice\", age=30) uses keyword arguments, so keys must be valid Python identifiers (strings).\n",
    "# dict(1=\"one\", 2=\"two\") is invalid because keys cannot be integers when using keyword arguments.\n",
    "# To use integer keys, pass a list of tuples:"
   ]
  },
  {
   "cell_type": "code",
   "execution_count": null,
   "id": "d58df470",
   "metadata": {},
   "outputs": [],
   "source": []
  }
 ],
 "metadata": {
  "kernelspec": {
   "display_name": "internship_env",
   "language": "python",
   "name": "python3"
  },
  "language_info": {
   "codemirror_mode": {
    "name": "ipython",
    "version": 3
   },
   "file_extension": ".py",
   "mimetype": "text/x-python",
   "name": "python",
   "nbconvert_exporter": "python",
   "pygments_lexer": "ipython3",
   "version": "3.11.11"
  }
 },
 "nbformat": 4,
 "nbformat_minor": 5
}
